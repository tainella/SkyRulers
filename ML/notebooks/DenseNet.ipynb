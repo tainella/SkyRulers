{
 "cells": [
  {
   "cell_type": "code",
   "execution_count": 184,
   "id": "f3ee6736",
   "metadata": {},
   "outputs": [],
   "source": [
    "import pandas as pd\n",
    "import numpy as np\n",
    "import os\n",
    "from copy import deepcopy\n",
    "import math\n",
    "\n",
    "import matplotlib.pyplot as plt\n",
    "import seaborn as sns\n",
    "\n",
    "import pint\n",
    "from pint import UnitRegistry\n",
    "\n",
    "from sklearn.model_selection import train_test_split\n",
    "from sklearn.metrics import mean_squared_error\n",
    "from sklearn.metrics import r2_score\n",
    "from sklearn.preprocessing import StandardScaler\n",
    "from math import sqrt\n",
    "\n",
    "import torch\n",
    "import torch.nn as nn\n",
    "import torch.nn.functional as F\n",
    "import torch.optim as optim"
   ]
  },
  {
   "cell_type": "code",
   "execution_count": 80,
   "id": "d92eb624",
   "metadata": {},
   "outputs": [],
   "source": [
    "def to_CI(df):\n",
    "    def celc(x):\n",
    "        ureg = UnitRegistry()\n",
    "        Q_ = ureg.Quantity\n",
    "        home = Q_(x, ureg.degC)\n",
    "        return home.to('degK')\n",
    "\n",
    "    def ream(x):\n",
    "        ureg = UnitRegistry()\n",
    "        Q_ = ureg.Quantity\n",
    "        home = Q_(x, ureg.degR)\n",
    "        return home.to('degK')\n",
    "    \n",
    "    celc_features = ['ZT1AB', 'ZTNAC', 'ZTOIL', 'ZT1A', 'GEGTMC', 'ZTNAC_D']\n",
    "    ream_features = ['ZTAMB']\n",
    "    \n",
    "    for cl in celc_features:\n",
    "        if cl in df.columns.to_list():\n",
    "            df[cl] = pd.Series(celc(df[cl].values))\n",
    "            \n",
    "    for cl in ream_features:\n",
    "        if cl in df.columns.to_list():\n",
    "            df[cl] = pd.Series(ream(df[cl].values))\n",
    "    \n",
    "    return df\n",
    "\n",
    "def preprocess_file(df, corr_ther):\n",
    "    def delete_corr(df, ther):\n",
    "        was_corr = []\n",
    "        corr = df.corr()\n",
    "        for row in corr.iterrows():\n",
    "            for v_ind in range(len(row[1])):\n",
    "                if row[1][v_ind] > ther and row[1][v_ind] < 1: #ПЕРЕСЧИТАТЬ\n",
    "                    if (row[0] not in was_corr) and (row[1].index[v_ind] not in was_corr):\n",
    "                        print(row[0], row[1].index[v_ind], row[1][v_ind])\n",
    "                        was_corr.append(row[0])\n",
    "        print(len(was_corr))\n",
    "        return was_corr\n",
    "    #удалить лишние\n",
    "    df = df.drop(['flight_datetime', 'engine_id'], axis = 1)\n",
    "    \n",
    "    #виды фичей\n",
    "    to_categorical = ['number_blades', 'engine_position', 'engine_type', \n",
    "                  'manufacturer', 'aircraft_family', 'aircraft_type', 'aircraft_grp',\n",
    "                  'ac_manufacturer', 'n1_modifier', 'IAI', 'ZVB2F', 'ZVB2R', 'IBE', 'IVS12', 'IAIE']\n",
    "    numerical = list(set(df.columns.to_list()) - set(to_categorical))\n",
    "    \n",
    "    #убрать те у которых больше 2/3 пропущены значения\n",
    "    for cl in numerical:\n",
    "        if (cl in df.columns.to_list()) and (len(df[cl]) * 2 / 3 < df[cl].isna().sum()):\n",
    "            df = df.drop([cl], axis = 1)\n",
    "    #обновить список числовых фияей\n",
    "    numerical = list(set(df.columns.to_list()) - set(to_categorical))\n",
    "    #заполнить оставшиеся пропуски нулями\n",
    "    df = df.fillna(0)\n",
    "    \n",
    "    #перевести в систему СИ\n",
    "    df = to_CI(df)\n",
    "\n",
    "    #убрать скоррелированные фичи\n",
    "    was_corr = delete_corr(df[numerical], corr_ther)\n",
    "    df.drop(was_corr, axis = 1)\n",
    "    #обновить список числовых фияей\n",
    "    numerical = list(set(df.columns.to_list()) - set(to_categorical))\n",
    "    \n",
    "    #скалировать данные\n",
    "    scaled_features = StandardScaler().fit_transform(df[numerical].values)\n",
    "    scaled_features_df = pd.DataFrame(scaled_features, index=df[numerical].index, columns=df[numerical].columns)\n",
    "    \n",
    "    scaled_features_df\n",
    "    #исправить типы данных категориальных фичей\n",
    "    for cl in to_categorical:\n",
    "        if cl in df.columns.to_list():\n",
    "            df[cl] = df[cl].astype(object)\n",
    "            #One Hot Encoding\n",
    "            one_hot = pd.get_dummies(df[cl])\n",
    "            scaled_features_df = pd.concat([scaled_features_df,one_hot], axis=1)\n",
    "    \n",
    "    return scaled_features_df"
   ]
  },
  {
   "cell_type": "code",
   "execution_count": 81,
   "id": "5546342c",
   "metadata": {},
   "outputs": [
    {
     "data": {
      "text/plain": [
       "Index(['engine_id', 'flight_datetime', 'engine_position', 'n1_modifier',\n",
       "       'number_blades', 'engine_type', 'manufacturer', 'ZPCN12', 'ZPCN25',\n",
       "       'ZPN12R', 'ZPOIL', 'ZPS3', 'ZT1AB', 'ZT3', 'ZT49', 'ZTAMB', 'ZTLA',\n",
       "       'ZTOIL', 'ZVB1F', 'ZVB2R', 'ZVSV', 'ZWF36', 'IHPSOV', 'aircraft_family',\n",
       "       'aircraft_type', 'aircraft_grp', 'ac_manufacturer', 'IAI', 'ZALT',\n",
       "       'ZT1A', 'ZVIAS', 'ZWBP1_8E', 'ZWBP2_8E', 'ZXM', 'IBE', 'IBP', 'IAIE',\n",
       "       'BRAT', 'DELFN', 'DELN1', 'EGTHDM', 'EGTHDM_D', 'PCN12', 'PCN1K',\n",
       "       'SLOATL', 'SLOATL_D', 'ZPCN25_D', 'ZT49_D', 'ZWF36_D'],\n",
       "      dtype='object')"
      ]
     },
     "execution_count": 81,
     "metadata": {},
     "output_type": "execute_result"
    }
   ],
   "source": [
    "df = pd.read_csv(\"../data/grouped/takeoff_CF34-8E.csv\")\n",
    "df.columns"
   ]
  },
  {
   "cell_type": "code",
   "execution_count": 328,
   "id": "a12e0160",
   "metadata": {},
   "outputs": [
    {
     "name": "stdout",
     "output_type": "stream",
     "text": [
      "ZXM CAS 0.9661298422219239\n",
      "PCN12I PCN12 0.9991130194483706\n",
      "EGTHDM_D SLOATL_D 0.999604667866712\n",
      "DELFN DELN1 0.9776110773064841\n",
      "PCN12 ZPCN12 0.9938310955493823\n",
      "PCN1BR PCN1AR 0.9526111135456666\n",
      "6\n"
     ]
    },
    {
     "name": "stderr",
     "output_type": "stream",
     "text": [
      "/Users/tainella/opt/anaconda3/lib/python3.9/site-packages/pandas/core/construction.py:616: UnitStrippedWarning:\n",
      "\n",
      "The unit of the quantity is stripped when downcasting to ndarray.\n",
      "\n",
      "/var/folders/x4/7f4hrz657630_vzq5rhyrmbw0000gp/T/ipykernel_10574/2280189954.py:76: FutureWarning:\n",
      "\n",
      "In a future version, the Index constructor will not infer numeric dtypes when passed object-dtype sequences (matching Series behavior)\n",
      "\n",
      "/var/folders/x4/7f4hrz657630_vzq5rhyrmbw0000gp/T/ipykernel_10574/2280189954.py:76: FutureWarning:\n",
      "\n",
      "In a future version, the Index constructor will not infer numeric dtypes when passed object-dtype sequences (matching Series behavior)\n",
      "\n",
      "/var/folders/x4/7f4hrz657630_vzq5rhyrmbw0000gp/T/ipykernel_10574/2280189954.py:76: FutureWarning:\n",
      "\n",
      "In a future version, the Index constructor will not infer numeric dtypes when passed object-dtype sequences (matching Series behavior)\n",
      "\n",
      "/var/folders/x4/7f4hrz657630_vzq5rhyrmbw0000gp/T/ipykernel_10574/2280189954.py:76: FutureWarning:\n",
      "\n",
      "In a future version, the Index constructor will not infer numeric dtypes when passed object-dtype sequences (matching Series behavior)\n",
      "\n",
      "/var/folders/x4/7f4hrz657630_vzq5rhyrmbw0000gp/T/ipykernel_10574/2280189954.py:76: FutureWarning:\n",
      "\n",
      "In a future version, the Index constructor will not infer numeric dtypes when passed object-dtype sequences (matching Series behavior)\n",
      "\n",
      "/var/folders/x4/7f4hrz657630_vzq5rhyrmbw0000gp/T/ipykernel_10574/2280189954.py:76: FutureWarning:\n",
      "\n",
      "In a future version, the Index constructor will not infer numeric dtypes when passed object-dtype sequences (matching Series behavior)\n",
      "\n",
      "/var/folders/x4/7f4hrz657630_vzq5rhyrmbw0000gp/T/ipykernel_10574/2280189954.py:76: FutureWarning:\n",
      "\n",
      "In a future version, the Index constructor will not infer numeric dtypes when passed object-dtype sequences (matching Series behavior)\n",
      "\n",
      "/var/folders/x4/7f4hrz657630_vzq5rhyrmbw0000gp/T/ipykernel_10574/2280189954.py:76: FutureWarning:\n",
      "\n",
      "In a future version, the Index constructor will not infer numeric dtypes when passed object-dtype sequences (matching Series behavior)\n",
      "\n",
      "/var/folders/x4/7f4hrz657630_vzq5rhyrmbw0000gp/T/ipykernel_10574/2280189954.py:76: FutureWarning:\n",
      "\n",
      "In a future version, the Index constructor will not infer numeric dtypes when passed object-dtype sequences (matching Series behavior)\n",
      "\n"
     ]
    }
   ],
   "source": [
    "df = pd.read_csv(\"../data/grouped/takeoff_CFM56-7.csv\")       \n",
    "\n",
    "to_categorical = ['number_blades', 'engine_position', 'engine_type', \n",
    "                  'manufacturer', 'aircraft_family', 'aircraft_type', 'aircraft_grp',\n",
    "                  'ac_manufacturer', 'n1_modifier', 'IAI', 'ZVB2F', 'ZVB2R', 'IBE', 'IVS12', 'IAIE']\n",
    "\n",
    "numerical = list(set(df.columns.to_list()) - set(to_categorical))\n",
    "\n",
    "df = preprocess_file(df, corr_ther = 0.95)"
   ]
  },
  {
   "cell_type": "code",
   "execution_count": 329,
   "id": "d92114cb",
   "metadata": {},
   "outputs": [],
   "source": [
    "# Целевые переменные\n",
    "\n",
    "y = pd.read_csv(\"../data/y.csv\")\n",
    "targets = y.columns.to_list()\n",
    "tr = [\"engine_id\", \"flight_datetime\", \"flight_phase\"]\n",
    "for t in tr:\n",
    "    targets.remove(t)\n",
    "\n",
    "tr = deepcopy(targets)\n",
    "for t in tr:\n",
    "    if t not in df.columns.to_list():\n",
    "        targets.remove(t)\n",
    "        \n",
    "features = list(set(df.columns.to_list()) - set(targets))"
   ]
  },
  {
   "cell_type": "code",
   "execution_count": 330,
   "id": "bdd6ab63",
   "metadata": {},
   "outputs": [
    {
     "data": {
      "text/plain": [
       "['BRAT',\n",
       " 'DELFN',\n",
       " 'DELN1',\n",
       " 'EGTHDM',\n",
       " 'EGTHDM_D',\n",
       " 'PCN12',\n",
       " 'PCN12I',\n",
       " 'PCN1AR',\n",
       " 'PCN1BR',\n",
       " 'PCN1K',\n",
       " 'SLOATL',\n",
       " 'SLOATL_D',\n",
       " 'ZPCN25_D',\n",
       " 'ZT49_D']"
      ]
     },
     "execution_count": 330,
     "metadata": {},
     "output_type": "execute_result"
    }
   ],
   "source": [
    "targets"
   ]
  },
  {
   "cell_type": "markdown",
   "id": "4eab8a59",
   "metadata": {},
   "source": [
    "### Train test"
   ]
  },
  {
   "cell_type": "code",
   "execution_count": 359,
   "id": "5ff6071f",
   "metadata": {},
   "outputs": [],
   "source": [
    "X = df[features].values\n",
    "y = df['ZT49_D'].values\n",
    "y = y.reshape(y.shape[0], 1)"
   ]
  },
  {
   "cell_type": "code",
   "execution_count": 360,
   "id": "e36a87ec",
   "metadata": {},
   "outputs": [],
   "source": [
    "X_train, X_test, y_train, y_test = train_test_split(X, y, test_size=0.3, random_state=42)"
   ]
  },
  {
   "cell_type": "code",
   "execution_count": 361,
   "id": "0acd14a5",
   "metadata": {},
   "outputs": [],
   "source": [
    "class MyDataset:\n",
    "    def __init__(self, features, targets):\n",
    "        self.features = features\n",
    "        self.labels = targets\n",
    "\n",
    "    def __len__(self):\n",
    "        return len(self.labels)\n",
    "\n",
    "    def __getitem__(self, idx):\n",
    "        feat_ = torch.tensor(self.features[idx], dtype=torch.float)\n",
    "        label_ = torch.tensor(self.labels[idx], dtype=torch.float)\n",
    "        \n",
    "        return feat_, label_"
   ]
  },
  {
   "cell_type": "code",
   "execution_count": 362,
   "id": "d1fc283c",
   "metadata": {},
   "outputs": [],
   "source": [
    "training_set = MyDataset(X_train, y_train)\n",
    "training_loader = torch.utils.data.DataLoader(training_set, batch_size = 32)\n",
    "\n",
    "val_set = MyDataset(X_test, y_test)\n",
    "val_loader = torch.utils.data.DataLoader(val_set, batch_size = 32)"
   ]
  },
  {
   "cell_type": "markdown",
   "id": "07dbd39a",
   "metadata": {},
   "source": [
    "### Модель"
   ]
  },
  {
   "cell_type": "code",
   "execution_count": 363,
   "id": "9a7cd7e8",
   "metadata": {},
   "outputs": [],
   "source": [
    "class NN(nn.Module):\n",
    "    def __init__(self):\n",
    "        super(NN,self).__init__()\n",
    "        self.layer1=nn.Linear(X_train.shape[1], X_train.shape[1] * 3)\n",
    "        self.layer2=nn.Linear(X_train.shape[1] * 3, X_train.shape[1] * 2)\n",
    "        self.layer3=nn.Linear(X_train.shape[1] * 2, X_train.shape[1] // 2)\n",
    "        self.layer4=nn.Linear(X_train.shape[1] // 2, y_train.shape[1])\n",
    "        \n",
    "    def forward(self,x):\n",
    "        x=F.relu(self.layer1(x))\n",
    "        x=F.relu(self.layer2(x))\n",
    "        x=F.relu(self.layer3(x))\n",
    "        x=self.layer4(x)\n",
    "        return x       "
   ]
  },
  {
   "cell_type": "markdown",
   "id": "f0828116",
   "metadata": {},
   "source": [
    "### Clearml"
   ]
  },
  {
   "cell_type": "code",
   "execution_count": 68,
   "id": "77f23a1a",
   "metadata": {},
   "outputs": [
    {
     "name": "stdout",
     "output_type": "stream",
     "text": [
      "env: CLEARML_WEB_HOST=https://app.clear.ml\n",
      "env: CLEARML_API_HOST=https://api.clear.ml\n",
      "env: CLEARML_FILES_HOST=https://files.clear.ml\n",
      "env: CLEARML_API_ACCESS_KEY=IQQHDZCO8XLA0RMX39VS\n",
      "env: CLEARML_API_SECRET_KEY=OjHNVcteg8ISHdMiEYjkNbShaFqfEk8fvQctlM7DcjffAWOFlr\n"
     ]
    }
   ],
   "source": [
    "%env CLEARML_WEB_HOST=https://app.clear.ml\n",
    "%env CLEARML_API_HOST=https://api.clear.ml\n",
    "%env CLEARML_FILES_HOST=https://files.clear.ml\n",
    "# sky_rulers\n",
    "%env CLEARML_API_ACCESS_KEY=IQQHDZCO8XLA0RMX39VS\n",
    "%env CLEARML_API_SECRET_KEY=OjHNVcteg8ISHdMiEYjkNbShaFqfEk8fvQctlM7DcjffAWOFlr"
   ]
  },
  {
   "cell_type": "code",
   "execution_count": 336,
   "id": "9f92a33b",
   "metadata": {},
   "outputs": [
    {
     "name": "stdout",
     "output_type": "stream",
     "text": [
      "ClearML Task: created new task id=1c8e77bcfc884c1cbec466374b62557b\n",
      "ClearML results page: https://app.clear.ml/projects/1b3c80b23fe545d982173133a25160e6/experiments/1c8e77bcfc884c1cbec466374b62557b/output/log\n"
     ]
    }
   ],
   "source": [
    "from clearml import Task\n",
    "task = Task.init(project_name='SkyRulers',\n",
    "                 task_name='LinearModel_30ep_takeoff_CFM56-7')"
   ]
  },
  {
   "cell_type": "code",
   "execution_count": 380,
   "id": "c4341691",
   "metadata": {},
   "outputs": [],
   "source": [
    "model = NN()\n",
    "\n",
    "optimizer = optim.SGD(model.parameters(), lr=1e-2)\n",
    "loss_fn = nn.MSELoss()"
   ]
  },
  {
   "cell_type": "code",
   "execution_count": 381,
   "id": "8262929e",
   "metadata": {},
   "outputs": [
    {
     "name": "stdout",
     "output_type": "stream",
     "text": [
      "epochs: 0......loss:0.7596739687519\n",
      "epochs: 5......loss:0.5295965843565423\n",
      "epochs: 10......loss:0.4728668098938996\n",
      "epochs: 15......loss:0.4370964376934452\n",
      "epochs: 20......loss:0.49061254770918583\n",
      "epochs: 25......loss:0.46160910455387594\n",
      "epochs: 30......loss:0.40454164341555776\n",
      "epochs: 35......loss:0.3867544357689822\n"
     ]
    }
   ],
   "source": [
    "epochs=40\n",
    "history = []\n",
    "\n",
    "for i in range(epochs):\n",
    "    loss_sum = 0\n",
    "    loss_count = 0\n",
    "    for x_batch, y_batch in training_loader:\n",
    "        #initialize the model parameter\n",
    "        optimizer.zero_grad()\n",
    "        #calculate the loss\n",
    "        output = model.forward(x_batch)\n",
    "        loss = loss_fn(output, y_batch)\n",
    "        loss_sum += math.sqrt(loss.detach().numpy())\n",
    "        loss_count += 1\n",
    "        #backpropagation\n",
    "        loss.backward()\n",
    "        #update the parameters\n",
    "        optimizer.step()\n",
    "    if(i % 5 == 0):\n",
    "        print(f\"epochs: {i}......loss:{loss_sum / loss_count}\")\n",
    "    history.append(loss_sum / loss_count)"
   ]
  },
  {
   "cell_type": "code",
   "execution_count": 378,
   "id": "fc912cfb",
   "metadata": {},
   "outputs": [
    {
     "data": {
      "image/png": "[encoded data removed]",
      "text/plain": [
       "<Figure size 640x480 with 1 Axes>"
      ]
     },
     "metadata": {},
     "output_type": "display_data"
    }
   ],
   "source": [
    "plt.plot(history)\n",
    "plt.title('loss')\n",
    "plt.show()"
   ]
  },
  {
   "cell_type": "code",
   "execution_count": 340,
   "id": "f7db8358",
   "metadata": {},
   "outputs": [],
   "source": [
    "y_train_pred = model(torch.tensor(X_train,dtype=torch.float))\n",
    "y_test_pred = model(torch.tensor(X_test,dtype=torch.float))\n",
    "\n",
    "#convert to numpy array\n",
    "y_train_pred = y_train_pred.detach().numpy()\n",
    "y_test_pred = y_test_pred.detach().numpy()"
   ]
  },
  {
   "cell_type": "code",
   "execution_count": 341,
   "id": "ca27efbd",
   "metadata": {},
   "outputs": [
    {
     "name": "stdout",
     "output_type": "stream",
     "text": [
      "train rmse 0.277\n",
      "test rmse 0.345\n"
     ]
    }
   ],
   "source": [
    "test_metric_rmse = sqrt(mean_squared_error(y_test, y_test_pred))\n",
    "train_metric_rmse = sqrt(mean_squared_error(y_train, y_train_pred))\n",
    "print('train rmse', round(train_metric_rmse, 3))\n",
    "print('test rmse', round(test_metric_rmse, 3))"
   ]
  },
  {
   "cell_type": "code",
   "execution_count": 342,
   "id": "de7b46d1",
   "metadata": {},
   "outputs": [
    {
     "name": "stdout",
     "output_type": "stream",
     "text": [
      "train r2_score 0.926\n",
      "test r2_score 0.926\n"
     ]
    }
   ],
   "source": [
    "test_metric_r2_score = r2_score(y_test, y_test_pred)\n",
    "train_metric_r2_score = r2_score(y_train, y_train_pred)\n",
    "print('train r2_score', round(train_metric_r2_score, 3))\n",
    "print('test r2_score', round(train_metric_r2_score, 3))"
   ]
  },
  {
   "cell_type": "code",
   "execution_count": 343,
   "id": "83ff6fa6",
   "metadata": {
    "scrolled": true
   },
   "outputs": [],
   "source": [
    "task_params = {'epoches': 50, 'batch_size': 32, 'test_rmse' : test_metric_rmse, 'train_rmse' : train_metric_rmse,\n",
    "               'test_r2_score' : test_metric_r2_score, 'train_r2_score' : train_metric_r2_score}\n",
    "\n",
    "task_params = task.connect(task_params)"
   ]
  },
  {
   "cell_type": "code",
   "execution_count": 344,
   "id": "1679ceb9",
   "metadata": {},
   "outputs": [],
   "source": [
    "torch.save(model.state_dict(), '../models/takeoff_CFM56-7.pt')"
   ]
  },
  {
   "cell_type": "code",
   "execution_count": 345,
   "id": "082c7e5d",
   "metadata": {},
   "outputs": [],
   "source": [
    "task.close()"
   ]
  },
  {
   "cell_type": "code",
   "execution_count": null,
   "id": "73724d37",
   "metadata": {},
   "outputs": [],
   "source": [
    "for filename in os.listdir(\"../data/grouped/\"):\n",
    "    if (\".csv\" in filename):\n",
    "        df = pd.read_csv(\"../data/grouped/\" + filename)       \n",
    "        to_categorical = ['number_blades', 'engine_position', 'engine_type', \n",
    "                          'manufacturer', 'aircraft_family', 'aircraft_type', 'aircraft_grp',\n",
    "                          'ac_manufacturer', 'n1_modifier', 'IAI', 'ZVB2F', 'ZVB2R', 'IBE', 'IVS12', 'IAIE']\n",
    "        numerical = list(set(df.columns.to_list()) - set(to_categorical))\n",
    "        df = preprocess_file(df, corr_ther = 0.95)\n",
    "        \n",
    "        for cl in targets:\n",
    "            X = df[features].values\n",
    "            y = df[cl].values\n",
    "            y = y.reshape(y.shape[0], 1)\n",
    "            \n",
    "            X_train, X_test, y_train, y_test = train_test_split(X, y, test_size=0.3, random_state=42)\n",
    "            training_set = MyDataset(X_train, y_train)\n",
    "            training_loader = torch.utils.data.DataLoader(training_set, batch_size = 32)\n",
    "            val_set = MyDataset(X_test, y_test)\n",
    "            val_loader = torch.utils.data.DataLoader(val_set, batch_size = 32)\n",
    "            \n",
    "            task = Task.init(project_name='SkyRulers',\n",
    "                 task_name=f'LinearModel_30ep_{filename + '_' + cl}')\n",
    "            \n",
    "                model = NN()\n",
    "                optimizer = optim.SGD(model.parameters(), lr=1e-2)\n",
    "                loss_fn = nn.MSELoss()\n",
    "                epochs=40\n",
    "                history = []\n",
    "\n",
    "                for i in range(epochs):\n",
    "                    loss_sum = 0\n",
    "                    loss_count = 0\n",
    "                    for x_batch, y_batch in training_loader:\n",
    "                        #initialize the model parameter\n",
    "                        optimizer.zero_grad()\n",
    "                        #calculate the loss\n",
    "                        output = model.forward(x_batch)\n",
    "                        loss = loss_fn(output, y_batch)\n",
    "                        loss_sum += math.sqrt(loss.detach().numpy())\n",
    "                        loss_count += 1\n",
    "                        #backpropagation\n",
    "                        loss.backward()\n",
    "                        #update the parameters\n",
    "                        optimizer.step()\n",
    "                    if(i % 10 == 0):\n",
    "                        print(f\"epochs: {i}......loss:{loss_sum / loss_count}\")\n",
    "                    history.append(loss_sum / loss_count)\n",
    "                    \n",
    "                    plt.plot(history)\n",
    "                    plt.title('loss')\n",
    "                    plt.show()\n",
    "                    \n",
    "                    y_train_pred = model(torch.tensor(X_train,dtype=torch.float))\n",
    "                    y_test_pred = model(torch.tensor(X_test,dtype=torch.float))\n",
    "                    #convert to numpy array\n",
    "                    y_train_pred = y_train_pred.detach().numpy()\n",
    "                    y_test_pred = y_test_pred.detach().numpy()\n",
    "                    \n",
    "                    test_metric_rmse = sqrt(mean_squared_error(y_test, y_test_pred))\n",
    "                    train_metric_rmse = sqrt(mean_squared_error(y_train, y_train_pred))\n",
    "                    \n",
    "                    test_metric_r2_score = r2_score(y_test, y_test_pred)\n",
    "                    train_metric_r2_score = r2_score(y_train, y_train_pred)\n",
    "                    \n",
    "                    task_params = {'epoches': 50, 'batch_size': 32, 'test_rmse' : test_metric_rmse, 'train_rmse' : train_metric_rmse,\n",
    "                       'test_r2_score' : test_metric_r2_score, 'train_r2_score' : train_metric_r2_score}\n",
    "                    task_params = task.connect(task_params)\n",
    "                    torch.save(model.state_dict(), f'../models/{filename + '_' + cl}.pt')\n",
    "                    task.close()"
   ]
  }
 ],
 "metadata": {
  "kernelspec": {
   "display_name": "Python 3 (ipykernel)",
   "language": "python",
   "name": "python3"
  },
  "language_info": {
   "codemirror_mode": {
    "name": "ipython",
    "version": 3
   },
   "file_extension": ".py",
   "mimetype": "text/x-python",
   "name": "python",
   "nbconvert_exporter": "python",
   "pygments_lexer": "ipython3",
   "version": "3.9.13"
  }
 },
 "nbformat": 4,
 "nbformat_minor": 5
}
